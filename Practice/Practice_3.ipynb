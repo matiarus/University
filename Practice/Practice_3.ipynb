{
  "nbformat": 4,
  "nbformat_minor": 0,
  "metadata": {
    "colab": {
      "provenance": [],
      "include_colab_link": true
    },
    "kernelspec": {
      "name": "python3",
      "display_name": "Python 3"
    },
    "language_info": {
      "name": "python"
    }
  },
  "cells": [
    {
      "cell_type": "markdown",
      "metadata": {
        "id": "view-in-github",
        "colab_type": "text"
      },
      "source": [
        "<a href=\"https://colab.research.google.com/github/Kirieshka124/univesity/blob/main/Practice/Practice_3.ipynb\" target=\"_parent\"><img src=\"https://colab.research.google.com/assets/colab-badge.svg\" alt=\"Open In Colab\"/></a>"
      ]
    },
    {
      "cell_type": "markdown",
      "source": [
        "# **Практическая работа №3. Введение в ООП**\n",
        "\n",
        "\n"
      ],
      "metadata": {
        "id": "s-EuQCpnWXCn"
      }
    },
    {
      "cell_type": "markdown",
      "source": [
        "## **Задание №1. Создайте класс Sphere для представления сферы в трехмерном пространстве**\n"
      ],
      "metadata": {
        "id": "TQ5SpdjdbD4D"
      }
    },
    {
      "cell_type": "markdown",
      "source": [
        "Обеспечьте следующие методы класса:\n",
        "\n",
        "1. Конструктор, принимающий 4 действительных числа: радиус, и 3 координаты центра шара. Если конструктор вызывается без аргументов, создать объект сферы с единичным радиусом и центром в начале координат. Если конструктор вызывается с аргументом, создать объект сферы с соответствующим радиусом и центром в начале координат.\n",
        "\n",
        "2. Метод get_volume (), который возвращает действительное число — объем шара, ограниченной текущей сферой.\n",
        "\n",
        "3. Метод get_square (), который возвращает действительное число — площадь внешней поверхности сферы.\n",
        "\n",
        "4. Метод get_radius (), который возвращает действительное число — радиус сферы.\n",
        "\n",
        "5. Метод get_center (), который возвращает тьюпл с 3 действительными числами — координатами центра сферы в том же порядке, в каком они задаются в конструкторе.\n",
        "\n",
        "6. Метод set_radius (r), который принимает 1 аргумент — действительное число, и меняет радиус текущей сферы, ничего не возвращая.\n",
        "\n",
        "7. Метод set_center (x, y, z), который принимает 3 аргумента — действительных числа, и меняет координаты центра сферы, ничего не возвращая. Координаты задаются в том же порядке, что и в конструкторе.\n",
        "\n",
        "8. Метод is_point_inside (x, y, z), который принимает 3 аргумента — действительных числа — координаты некоторой точки в пространстве (в том же порядке, что и в конструкторе), и возвращает логическое значение True или False в зависимости от того, находится эта точка внутри сферы."
      ],
      "metadata": {
        "id": "Q5Ow51wfASZH"
      }
    },
    {
      "cell_type": "code",
      "source": [
        "\n",
        "from math import pi\n",
        "class Sphere:\n",
        "  def __init__(self, radius:float=1.0, x:float=0.0, y:float=0.0 , z:float=0.0):\n",
        "    self.radius = radius\n",
        "    self.x = x\n",
        "    self.y = y\n",
        "    self.z = z\n",
        "\n",
        "  def get_volume(self):\n",
        "    return 4/3 * (pi * self.radius**3)\n",
        "\n",
        "  def get_square(self):\n",
        "    return 4*pi*(self.radius**2)\n",
        "\n",
        "  def get_radius(self):\n",
        "    return self.radius\n",
        "\n",
        "  def get_center(self):\n",
        "    return (self.x, self.y, self.z)\n",
        "\n",
        "  def set_radius(self,r:float):\n",
        "    self.radius = r\n",
        "\n",
        "  def set_center(self, x:float, y:float, z:float):\n",
        "    self.x = x\n",
        "    self.y = y\n",
        "    self.z = z\n",
        "\n",
        "  def is_point_inside(self, x, y, z):\n",
        "    return (abs(x) < self.radius and abs(y) < self.radius and abs(z) < self.radius)"
      ],
      "metadata": {
        "id": "d-vd-AYRdBId"
      },
      "execution_count": null,
      "outputs": []
    },
    {
      "cell_type": "code",
      "source": [
        "# Тесты\n",
        "\n",
        "s0 = Sphere(0.5)\n",
        "print(s0.get_center())\n",
        "print(s0.get_square())\n",
        "print(s0.get_volume())\n",
        "print(s0.is_point_inside(0 , -1.5, 0))\n",
        "s0.set_radius(1.6)\n",
        "print(s0.is_point_inside(0, -1.5, 0))\n",
        "print(s0.get_radius())\n",
        "s0.set_center(10, 10, 10)\n",
        "print(s0.get_center())\n",
        "print(s0.is_point_inside(0 , -1.5, 0))"
      ],
      "metadata": {
        "id": "xYx3bR2Lbv42",
        "outputId": "5f18bc89-ed73-4f9b-9b5a-b1a4472a894a",
        "colab": {
          "base_uri": "https://localhost:8080/"
        }
      },
      "execution_count": null,
      "outputs": [
        {
          "output_type": "stream",
          "name": "stdout",
          "text": [
            "(0.0, 0.0, 0.0)\n",
            "3.141592653589793\n",
            "0.5235987755982988\n",
            "False\n",
            "True\n",
            "1.6\n",
            "(10, 10, 10)\n",
            "True\n"
          ]
        }
      ]
    },
    {
      "cell_type": "markdown",
      "source": [
        "## **Задание №2. Создайте класс SuperStr, который наследует стандартный класс str и содержит 2 новых метода:**"
      ],
      "metadata": {
        "id": "UuJ9K_zAcaY_"
      }
    },
    {
      "cell_type": "markdown",
      "source": [
        "1. Метод is_repeatance (s), который принимает 1 аргумент s и возвращает True или False в зависимости от того, может ли текущая строку быть получена целым количеством повторов строки s. Вернуть False, если s не является строкой. Считать, что пустая строка не содержит повторов.\n",
        "\n",
        "2. Метод is_palindrom (), который возвращает True или False в зависимости от того, является ли строка [палиндромом](https://ru.wikipedia.org/wiki/Палиндром). Регистрами символов пренебрегать. Пустую строку считать палиндромом."
      ],
      "metadata": {
        "id": "GX99X81VchPW"
      }
    },
    {
      "cell_type": "code",
      "source": [
        "\n",
        "class SuperStr(str):\n",
        "  def __init__(self, s):\n",
        "    self.s = s\n",
        "\n",
        "  def is_repeatance(self,s):\n",
        "    if s != str(s):\n",
        "      return False\n",
        "    else:\n",
        "      for i in range(len(s)-2):\n",
        "        if s[i]+s[i+1]+s[i+2] != self.s[i:i+3] or (len(self.s) % len(s) != 0):\n",
        "          return False\n",
        "      return True\n",
        "\n",
        "  def is_palindrom(self):\n",
        "    return self.s.lower() == self.s[::-1].lower()\n",
        "\n"
      ],
      "metadata": {
        "id": "LtIAKDWFdEcr"
      },
      "execution_count": null,
      "outputs": []
    },
    {
      "cell_type": "code",
      "source": [
        "# Тесты\n",
        "\n",
        "s = SuperStr(\"123123123123\")\n",
        "print(s.is_repeatance(\"123\"))\n",
        "print(s.is_repeatance(\"123123\"))\n",
        "print(s.is_repeatance(\"123123123123\"))\n",
        "print(s.is_repeatance(\"12312\"))\n",
        "print(s.is_repeatance(123))\n",
        "print(s.is_palindrom())\n",
        "print(s)\n",
        "print(int(s))\n",
        "print(s + \"qaz\")\n",
        "p = SuperStr(\"123_321\")\n",
        "print(p.is_palindrom())"
      ],
      "metadata": {
        "id": "oRO3alwicoNp",
        "outputId": "2640d354-22de-4a15-953b-af2b0b3bb31f",
        "colab": {
          "base_uri": "https://localhost:8080/"
        }
      },
      "execution_count": null,
      "outputs": [
        {
          "output_type": "stream",
          "name": "stdout",
          "text": [
            "True\n",
            "True\n",
            "True\n",
            "False\n",
            "False\n",
            "False\n",
            "123123123123\n",
            "123123123123\n",
            "123123123123qaz\n",
            "True\n"
          ]
        }
      ]
    },
    {
      "cell_type": "markdown",
      "source": [
        "## **Задание №3. В коде ниже представлен класс преподавателей и класс студентов (вы можете взять этот код за основу или написать свой).**"
      ],
      "metadata": {
        "id": "m9EGwLY9jZbw"
      }
    },
    {
      "cell_type": "code",
      "source": [
        "class Student:\n",
        "    def __init__(self, name, surname, gender):\n",
        "        self.name = name\n",
        "        self.surname = surname\n",
        "        self.gender = gender\n",
        "        self.finished_courses = []\n",
        "        self.courses_in_progress = []\n",
        "        self.grades = {}\n",
        "\n",
        "    def add_courses(self, course_name):\n",
        "        self.finished_courses.append(course_name)\n",
        "\n",
        "\n",
        "class Mentor:\n",
        "    def __init__(self, name, surname):\n",
        "        self.name = name\n",
        "        self.surname = surname\n",
        "        self.courses_attached = []\n",
        "\n",
        "    def rate_hw(self, student, course, grade):\n",
        "        student.grades[course] = [grade]"
      ],
      "metadata": {
        "id": "PlqK9m7KrT6e"
      },
      "execution_count": null,
      "outputs": []
    },
    {
      "cell_type": "code",
      "source": [
        "best_student = Student('Ruoy', 'Eman', 'your_gender')\n",
        "cool_mentor = Mentor('Some', 'Buddy')\n",
        "cool_mentor.rate_hw(best_student, 'Python', 10)\n",
        "\n",
        "print(\"Имя студента: \", best_student.name)\n",
        "print(\"Имя преподавателя: \", cool_mentor.name)\n",
        "print(\"Оценки студента по курсам: \", best_student.grades)"
      ],
      "metadata": {
        "colab": {
          "base_uri": "https://localhost:8080/"
        },
        "id": "oNc1-dVaw3ee",
        "outputId": "623ca5f5-9b6b-4397-91e5-960bc6313028"
      },
      "execution_count": null,
      "outputs": [
        {
          "output_type": "stream",
          "name": "stdout",
          "text": [
            "Имя студента:  Ruoy\n",
            "Имя преподавателя:  Some\n",
            "Оценки студента по курсам:  {'Python': [10]}\n"
          ]
        }
      ]
    },
    {
      "cell_type": "markdown",
      "source": [
        "### **3.1. Наследование**"
      ],
      "metadata": {
        "id": "08FkYxULrxE-"
      }
    },
    {
      "cell_type": "markdown",
      "source": [
        "* Класс Mentor должен стать родительским классом для преподавателей. От него нужно реализовать наследование классов Lecturer (лекторы) и Reviewer (эксперты, проверяющие домашние задания).\n",
        "\n",
        "> Имя, фамилю и список закрепленных курсов логично реализовать на уровне родительского класса."
      ],
      "metadata": {
        "id": "YNjsCv5ItOii"
      }
    },
    {
      "cell_type": "code",
      "source": [
        "\n",
        "class Lecturer(Mentor):\n",
        "    def lecture(self):\n",
        "        print('Лектор читает лекцию...')\n",
        "\n",
        "\n",
        "class Reviewer(Mentor):\n",
        "    def rate_hw(self, student, course, grade):\n",
        "        student.grades[course] = [grade]"
      ],
      "metadata": {
        "id": "1quZPRZKtIoc"
      },
      "execution_count": null,
      "outputs": []
    },
    {
      "cell_type": "markdown",
      "source": [
        "### **3.2. Атрибуты и взаимодействие классов**"
      ],
      "metadata": {
        "id": "oL8kB-uUtH5K"
      }
    },
    {
      "cell_type": "markdown",
      "source": [
        "* Реализуйте возможность проставления оценок студентам только Reviewer-ам (реализуйте такой метод).\n",
        "\n",
        "* Реализуйте метод выставления оценок лекторам у класса Student (оценки по 10-балльной шкале, хранятся в атрибуте-словаре у Lecturer, в котором ключи – названия курсов, а значения – списки оценок). Лектор при этом должен быть закреплен за тем курсом, на который записан студент (реализовать проверку)."
      ],
      "metadata": {
        "id": "ddcuJFCksWsY"
      }
    },
    {
      "cell_type": "code",
      "source": [
        "\n",
        "class Student:\n",
        "    def __init__(self, name, surname, gender):\n",
        "        self.name = name\n",
        "        self.surname = surname\n",
        "        self.gender = gender\n",
        "        self.finished_courses = []\n",
        "        self.courses_in_progress = []\n",
        "        self.grades = {}\n",
        "\n",
        "    def add_courses(self, course_name):\n",
        "        self.finished_courses.append(course_name)\n",
        "\n",
        "    def add_courses_in_progress(self, course_name):\n",
        "      self.courses_in_progress.append(course_name)\n",
        "\n",
        "    def put_mark(self, lecturer, course, grade):\n",
        "        if lecturer:\n",
        "          if course in lecturer.courses_attached:\n",
        "            if course in lecturer.grade_book:\n",
        "              new_grade = lecturer.grade_book[course].copy()\n",
        "              new_grade.append(grade)\n",
        "              lecturer.grade_book[course] = new_grade\n",
        "            else:\n",
        "              lecturer.grade_book[course] = [grade]\n",
        "            print(f'Оценка выставлена {lecturer.grade_book}')\n",
        "          else:\n",
        "            print('Лектор не закреплен за указанным курсом')\n",
        "        else:\n",
        "          print('Лектор не найден')\n",
        "\n",
        "\n",
        "class Mentor:\n",
        "    def __init__(self, name, surname):\n",
        "        self.name = name\n",
        "        self.surname = surname\n",
        "        self.courses_attached = []\n",
        "\n",
        "    def set_courses(self, course):\n",
        "      self.courses_attached.append(course)\n",
        "\n",
        "\n",
        "class Lecturer(Mentor):\n",
        "    def __init__(self, name, surname):\n",
        "        self.name = name\n",
        "        self.surname = surname\n",
        "        self.courses_attached = []\n",
        "        self.grade_book = {}\n",
        "\n",
        "\n",
        "class Reviewer(Mentor):\n",
        "    def rate_hw(self, student, course, grade):\n",
        "      if student:\n",
        "        if course in self.courses_attached:\n",
        "          if course in student.courses_in_progress:\n",
        "            if course in student.grades:\n",
        "              new_grade = student.grades[course].copy()\n",
        "              new_grade.append(grade)\n",
        "              student.grades[course] = new_grade\n",
        "            else:\n",
        "              student.grades[course] = [grade]\n",
        "            print(f'Оценка выставлена {student.grades}')\n",
        "          else:\n",
        "            print('Студент не закреплен за данным курсом')\n",
        "        else:\n",
        "          print('Эксперт не закреплен за указанным курсом')\n",
        "      else:\n",
        "        print('Студент не найден')\n",
        "\n",
        "\n",
        "a = Lecturer('A', 'B')\n",
        "c = Student('Stud', 'Ent', 'm')\n",
        "c.put_mark(a, 'PI1', 10)\n",
        "a.set_courses('PI1')\n",
        "c.put_mark(a, 'PI1', 10)\n",
        "a.grade_book"
      ],
      "metadata": {
        "id": "U30yyvuirv6H",
        "outputId": "59a7f3a0-fe42-467e-a1b6-764089f16b37",
        "colab": {
          "base_uri": "https://localhost:8080/"
        }
      },
      "execution_count": null,
      "outputs": [
        {
          "output_type": "stream",
          "name": "stdout",
          "text": [
            "Лектор не закреплен за указанным курсом\n",
            "Оценка выставлена {'PI1': [10]}\n"
          ]
        },
        {
          "output_type": "execute_result",
          "data": {
            "text/plain": [
              "{'PI1': [10]}"
            ]
          },
          "metadata": {},
          "execution_count": 11
        }
      ]
    },
    {
      "cell_type": "markdown",
      "source": [
        "### **3.3. Полиморфизм и магические методы**"
      ],
      "metadata": {
        "id": "i6PrwEBSu39u"
      }
    },
    {
      "cell_type": "markdown",
      "source": [
        "Перегрузите магический метод \\_\\_str__ у всех классов.\n",
        "У проверяющих он должен выводить информацию в следующем виде:\n",
        "\n",
        "\n",
        "\n",
        "```\n",
        "print(some_reviewer)\n",
        "Имя: Some\n",
        "Фамилия: Buddy\n",
        "```\n",
        "\n",
        "У лекторов:\n",
        "\n",
        "\n",
        "\n",
        "```\n",
        "print(some_lecturer)\n",
        "Имя: Some\n",
        "Фамилия: Buddy\n",
        "Средняя оценка за лекции: 9.9\n",
        "```\n",
        "\n",
        "А у студентов так:\n",
        "\n",
        "\n",
        "\n",
        "```\n",
        "print(some_student)\n",
        "Имя: Ruoy\n",
        "Фамилия: Eman\n",
        "Средняя оценка за домашние задания: 9.9\n",
        "Курсы в процессе изучения: Python, Git\n",
        "Завершенные курсы: Введение в программирование\n",
        "```\n",
        "\n",
        "\n",
        "\n"
      ],
      "metadata": {
        "id": "GvmtjlnmvF8b"
      }
    },
    {
      "cell_type": "code",
      "source": [
        "\n",
        "class Student:\n",
        "  def __init__(self, name, surname, gender):\n",
        "        self.name = name\n",
        "        self.surname = surname\n",
        "        self.gender = gender\n",
        "        self.finished_courses = []\n",
        "        self.courses_in_progress = []\n",
        "        self.grades = {}\n",
        "\n",
        "  def __str__(self):\n",
        "    return f\"Имя: {self.name}\\nФамилия: {self.surname}\\nСредняя оценка за домашние задания: {sum(list(*c.grades.values()))/len(list(*c.grades.values())) if len(list(*c.grades.values())) != 0 else 0}\\nКурсы в процессе изучения: {', '.join(self.courses_in_progress)}\\nЗавершенные курсы: {', '.join(self.finished_courses)}\"\n",
        "\n",
        "  def add_courses_in_progress(self, course_name):\n",
        "      self.courses_in_progress.append(course_name)\n",
        "\n",
        "  def add_courses(self, course_name):\n",
        "      self.finished_courses.append(course_name)\n",
        "\n",
        "  def put_mark(self, lecturer, course, grade):\n",
        "      if lecturer:\n",
        "        if course in lecturer.courses_attached:\n",
        "          if course in lecturer.grade_book:\n",
        "            new_grade = lecturer.grade_book[course].copy()\n",
        "            new_grade.append(grade)\n",
        "            lecturer.grade_book[course] = new_grade\n",
        "          else:\n",
        "            lecturer.grade_book[course] = [grade]\n",
        "          print(f'Оценка выставлена {lecturer.grade_book}')\n",
        "        else:\n",
        "          print('Лектор не закреплен за указанным курсом')\n",
        "      else:\n",
        "        print('Лектор не найден')\n",
        "\n",
        "\n",
        "class Lecturer(Mentor):\n",
        "    def __init__(self, name, surname):\n",
        "        self.name = name\n",
        "        self.surname = surname\n",
        "        self.courses_attached = []\n",
        "        self.grade_book = {}\n",
        "\n",
        "    def __str__(self):\n",
        "      grades = list(i[1] for i in list(self.grade_book.values()))\n",
        "      return f'Имя: {self.name}\\nФамилия: {self.surname}\\nСредняя оценка за лекции: {sum(grades) / len(grades) if len(grades) != 0 else 0}'\n",
        "\n",
        "\n",
        "class Reviewer(Mentor):\n",
        "    def __str__(self):\n",
        "        return f'Имя: {self.name}\\nФамилия: {self.surname}'\n",
        "\n",
        "    def rate_hw(self, student, course, grade):\n",
        "      if student:\n",
        "        if course in self.courses_attached:\n",
        "          if course in student.courses_in_progress:\n",
        "            if course in student.grades:\n",
        "              new_grade = student.grades[course].copy()\n",
        "              new_grade.append(grade)\n",
        "              student.grades[course] = new_grade\n",
        "            else:\n",
        "              student.grades[course] = [grade]\n",
        "            print(f'Оценка выставлена {student.grades}')\n",
        "          else:\n",
        "            print('Студент не закреплен за данным курсом')\n",
        "        else:\n",
        "          print('Эксперт не закреплен за указанным курсом')\n",
        "      else:\n",
        "        print('Студент не найден')\n",
        "\n",
        "\n",
        "a = Lecturer('Lector', 'Rotcel')\n",
        "b = Reviewer('Reviewer', 'Eweriver')\n",
        "c = Student('Stude', 'Tusdent', 'm')\n",
        "print(a, '\\n')\n",
        "print(b, '\\n')\n",
        "print(c, '\\n')\n",
        "b.set_courses('PI1')\n",
        "c.put_mark(a, 'PI1', 10)\n",
        "a.set_courses('PI1')\n",
        "c.put_mark(a, 'PI1', 10)\n",
        "b.rate_hw(c, 'PI1', 10)\n",
        "c.add_courses_in_progress('PI1')\n",
        "b.rate_hw(c, 'PI1', 5)\n",
        "print(c)"
      ],
      "metadata": {
        "id": "gCJAL_EmwU0b",
        "outputId": "32364303-5b48-45be-efb4-36114586bfbc",
        "colab": {
          "base_uri": "https://localhost:8080/"
        }
      },
      "execution_count": null,
      "outputs": [
        {
          "output_type": "stream",
          "name": "stdout",
          "text": [
            "Имя: Lector\n",
            "Фамилия: Rotcel\n",
            "Средняя оценка за лекции: 0 \n",
            "\n",
            "Имя: Reviewer\n",
            "Фамилия: Eweriver \n",
            "\n",
            "Имя: Stude\n",
            "Фамилия: Tusdent\n",
            "Средняя оценка за домашние задания: 0\n",
            "Курсы в процессе изучения: \n",
            "Завершенные курсы:  \n",
            "\n",
            "Лектор не закреплен за указанным курсом\n",
            "Оценка выставлена {'PI1': [10]}\n",
            "Студент не закреплен за данным курсом\n",
            "Оценка выставлена {'PI1': [5]}\n",
            "Имя: Stude\n",
            "Фамилия: Tusdent\n",
            "Средняя оценка за домашние задания: 5.0\n",
            "Курсы в процессе изучения: PI1\n",
            "Завершенные курсы: \n"
          ]
        }
      ]
    },
    {
      "cell_type": "markdown",
      "source": [
        "**Реализуйте перегрузку других магических методов на Ваш выбор (не менее трёх), руководствуясь по смыслу контекстом представленных классов (студенты, преподаватели, оценки и т.д.)**"
      ],
      "metadata": {
        "id": "1DNE4TE3vfYI"
      }
    },
    {
      "cell_type": "code",
      "source": [
        "\n",
        "class Student:\n",
        "  def __init__(self, name, surname, gender):\n",
        "    self.name = name\n",
        "    self.surname = surname\n",
        "    self.gender = gender\n",
        "    self.finished_courses = []\n",
        "    self.courses_in_progress = []\n",
        "    self.grades = {}\n",
        "\n",
        "  def __str__(self):\n",
        "    return f\"Имя: {self.name}\\nФамилия: {self.surname}\\nСредняя оценка за домашние задания: {sum(self.grades.values())/len(self.grades) if len(self.grades) != 0 else 0}\\nКурсы в процессе изучения: {', '.join(self.courses_in_progress)}\\nЗавершенные курсы: {', '.join(self.finished_courses)}\"\n",
        "\n",
        "  def __add__(self, other):\n",
        "    self.grades['unsorted'] = other\n",
        "    return f'Добавлена неопределенная оценка {other}, позже определить курс'\n",
        "\n",
        "  def add_courses(self, *args):\n",
        "    for course_name in args:\n",
        "      self.finished_courses.append(course_name)\n",
        "\n",
        "  def add_courses_in_progress(self, course_name):\n",
        "    self.courses_in_progress.append(course_name)\n",
        "\n",
        "  def get_grades(self, course):\n",
        "    return self.grades[course]\n",
        "\n",
        "  def put_mark(self, lecturer, course, grade):\n",
        "      if lecturer:\n",
        "        if course in lecturer.courses_attached:\n",
        "          if course in lecturer.grade_book:\n",
        "            new_grade = lecturer.grade_book[course].copy()\n",
        "            new_grade.append(grade)\n",
        "            lecturer.grade_book[course] = new_grade\n",
        "          else:\n",
        "            lecturer.grade_book[course] = [grade]\n",
        "          print(f'Оценка выставлена {lecturer.grade_book}')\n",
        "        else:\n",
        "          print('Лектор не закреплен за указанным курсом')\n",
        "      else:\n",
        "        print('Лектор не найден')\n",
        "\n",
        "class Mentor:\n",
        "  def __init__(self, name, surname):\n",
        "    self.name = name\n",
        "    self.surname = surname\n",
        "    self.courses_attached = []\n",
        "\n",
        "  def set_courses(self, *args):\n",
        "    for i in args:\n",
        "      self.courses_attached.append(i)\n",
        "\n",
        "  def __eq__(self,other):\n",
        "    if str(other) in self.courses_attached:\n",
        "      return f'Преподаватель закреплен за курсом {other}'\n",
        "    else:\n",
        "      return f'Преподаватель не закреплен за курсом {other}'\n",
        "\n",
        "class Lecturer(Mentor):\n",
        "  def __init__(self, name, surname):\n",
        "    self.name = name\n",
        "    self.surname = surname\n",
        "    self.courses_attached = []\n",
        "    self.grade_book = {}\n",
        "\n",
        "  def __str__(self):\n",
        "    grades = list(i[1] for i in list(self.grade_book.values()))\n",
        "    return f'Имя: {self.name}\\nФамилия: {self.surname}\\nСредняя оценка за лекции: {sum(grades) / len(grades) if len(grades) != 0 else 0}'\n",
        "\n",
        "  def __pow__(self, other):\n",
        "    if other > 0:\n",
        "      return f'Лектору повысили зарплату в {other} раз(а)!'\n",
        "    elif other <= 1 and other >= -1:\n",
        "      return f'Зарплата лектора осталась в исходном состоянии'\n",
        "    else:\n",
        "      return f'Лектору сократили зарплату в {other} раз(а) :('\n",
        "\n",
        "  def get_grades(self, course):\n",
        "    return self.grade_book[course]\n",
        "\n",
        "class Reviewer(Mentor):\n",
        "    def __str__(self):\n",
        "        return f'Имя: {self.name}\\nФамилия: {self.surname}'\n",
        "\n",
        "    def rate_hw(self, student, course, grade):\n",
        "      if student:\n",
        "        if course in self.courses_attached:\n",
        "          if course in student.grades:\n",
        "            new_grade = student.grades[course].copy()\n",
        "            new_grade.append(grade)\n",
        "            student.grades[course] = new_grade\n",
        "          else:\n",
        "            student.grades[course] = [grade]\n",
        "          print(f'Оценка выставлена {student.grades}')\n",
        "        else:\n",
        "          print('Эксперт не закреплен за указанным курсом')\n",
        "      else:\n",
        "        print('Студент не найден')\n",
        "\n",
        "\n",
        "c = Student('Stude', 'Tusdent', 'm')\n",
        "a = Lecturer('Lector', 'Rotcel')\n",
        "a.set_courses('PI', 'Sec')\n",
        "c.put_mark(a, 'PI', 5)\n",
        "c.put_mark(a, 'PI', 10)\n",
        "print(a.get_grades('PI'))\n",
        "print(c + 1)\n",
        "print(a == 'PI')\n",
        "print(a == 'Sec')\n",
        "print(a**2, a**-1)"
      ],
      "metadata": {
        "id": "WNCf9PPMu4Gv",
        "outputId": "8e2e777e-7fee-44b5-e831-9b3801be3b06",
        "colab": {
          "base_uri": "https://localhost:8080/"
        }
      },
      "execution_count": null,
      "outputs": [
        {
          "output_type": "stream",
          "name": "stdout",
          "text": [
            "Оценка выставлена {'PI': [5]}\n",
            "Оценка выставлена {'PI': [5, 10]}\n",
            "[5, 10]\n",
            "Добавлена неопределенная оценка 1, позже определить курс\n",
            "Преподаватель закреплен за курсом PI\n",
            "Преподаватель закреплен за курсом Sec\n",
            "Лектору повысили зарплату в 2 раз(а)! Зарплата лектора осталась в исходном состоянии\n"
          ]
        }
      ]
    },
    {
      "cell_type": "markdown",
      "source": [
        "### **3.4. Тестирование**\n",
        "\n",
        "Создайте по 2 экземпляра каждого класса, вызовите все созданные методы, а также реализуйте две функции:\n",
        "\n",
        "* для подсчета средней оценки за домашние задания по всем студентам в рамках конкретного курса (в качестве аргументов принимаем список студентов и название курса);\n",
        "* для подсчета средней оценки за лекции всех лекторов в рамках курса (в качестве аргумента принимаем список лекторов и название курса)."
      ],
      "metadata": {
        "id": "X8xvLNT6u4Nn"
      }
    },
    {
      "cell_type": "code",
      "source": [
        "\n",
        "def count_average_marks_students(students, course):\n",
        "  all_grades = []\n",
        "  leng = 0\n",
        "  for i in students:\n",
        "    if course in i.grades:\n",
        "      all_grades.extend(i.get_grades(course))\n",
        "      leng += len(i.get_grades(course))\n",
        "  if leng != 0:\n",
        "    return sum(all_grades) / leng\n",
        "  else:\n",
        "    return 0\n",
        "\n",
        "\n",
        "def count_average_marks_lecturers(lects, course):\n",
        "  all_grades = []\n",
        "  leng = 0\n",
        "  for i in lects:\n",
        "    if course in i.courses_attached:\n",
        "      all_grades.extend(i.get_grades(course))\n",
        "      leng += len(i.get_grades(course))\n",
        "  if leng != 0:\n",
        "    return sum(all_grades) / leng\n",
        "  else:\n",
        "    return 0\n",
        "\n",
        "\n",
        "Lect1 = Lecturer('Lector', 'Rotcel')\n",
        "Lect2 = Lecturer('Ivan', 'Navi')\n",
        "Stud1 = Student('Stude', 'Eduts', 'M')\n",
        "Stud2 = Student('Elise', 'Siele', 'F')\n",
        "Rev1 = Reviewer('River', 'Ewer')\n",
        "Rev2 = Reviewer('Andreas', 'San')\n",
        "Ment1 = Mentor('Bober', 'Rober')\n",
        "Ment2 = Mentor('Phoenix', 'Attorney')\n",
        "\n",
        "Lect1.set_courses('PI', 'Sec')\n",
        "Lect2.set_courses('Sec')\n",
        "\n",
        "print(Lect1, '\\n')\n",
        "print(Stud1, '\\n')\n",
        "print(Rev1, '\\n')\n",
        "\n",
        "Rev1.set_courses('PI', 'Sec')\n",
        "Rev2.set_courses('Sec')\n",
        "print(Stud1 + 5, '\\n')\n",
        "Stud1.add_courses('Python')\n",
        "print(Lect1 == 'PI1', '\\n')\n",
        "print(Lect1**2, '\\n')\n",
        "\n",
        "Stud1.put_mark(Lect1, 'PI', 10)\n",
        "Stud2.put_mark(Lect1, 'Sec', 5)\n",
        "Stud1.put_mark(Lect2, 'Sec', 7)\n",
        "Stud2.put_mark(Lect2, 'PI', 4)\n",
        "Stud2.put_mark(Lect2, 'Sec', 6)\n",
        "Stud1.put_mark(Lect1, 'PI', 5)\n",
        "Stud1.put_mark(Lect2, 'PI', 7)\n",
        "\n",
        "Rev1.rate_hw(Stud1, 'PI', 10)\n",
        "Rev2.rate_hw(Stud1, 'Sec', 5)\n",
        "Rev1.rate_hw(Stud2, 'Sec', 7)\n",
        "Rev2.rate_hw(Stud2, 'PI', 4)\n",
        "Rev2.rate_hw(Stud2, 'Sec', 6)\n",
        "Rev1.rate_hw(Stud1, 'PI', 5)\n",
        "Rev1.rate_hw(Stud2, 'PI', 7)\n",
        "\n",
        "\n",
        "print('PI lectures: ', count_average_marks_lecturers([Lect1, Lect2], 'PI'))\n",
        "print('Sec lectures: ', count_average_marks_lecturers([Lect1, Lect2], 'Sec'))\n",
        "print('PI students: ', count_average_marks_students([Stud1, Stud2], 'PI'))\n",
        "print('Sec students: ', count_average_marks_students([Stud1, Stud2], 'Sec'))"
      ],
      "metadata": {
        "id": "uh8n08fdu4V_",
        "colab": {
          "base_uri": "https://localhost:8080/"
        },
        "outputId": "2432d3ef-c363-4fda-d8b3-bb292ed8162f"
      },
      "execution_count": null,
      "outputs": [
        {
          "output_type": "stream",
          "name": "stdout",
          "text": [
            "Имя: Lector\n",
            "Фамилия: Rotcel\n",
            "Средняя оценка за лекции: 0 \n",
            "\n",
            "Имя: Stude\n",
            "Фамилия: Eduts\n",
            "Средняя оценка за домашние задания: 0\n",
            "Курсы в процессе изучения: \n",
            "Завершенные курсы:  \n",
            "\n",
            "Имя: River\n",
            "Фамилия: Ewer \n",
            "\n",
            "Добавлена неопределенная оценка 5, позже определить курс \n",
            "\n",
            "Преподаватель не закреплен за курсом PI1 \n",
            "\n",
            "Лектору повысили зарплату в 2 раз(а)! \n",
            "\n",
            "Оценка выставлена {'PI': [10]}\n",
            "Оценка выставлена {'PI': [10], 'Sec': [5]}\n",
            "Оценка выставлена {'Sec': [7]}\n",
            "Лектор не закреплен за указанным курсом\n",
            "Оценка выставлена {'Sec': [7, 6]}\n",
            "Оценка выставлена {'PI': [10, 5], 'Sec': [5]}\n",
            "Лектор не закреплен за указанным курсом\n",
            "Оценка выставлена {'unsorted': 5, 'PI': [10]}\n",
            "Оценка выставлена {'unsorted': 5, 'PI': [10], 'Sec': [5]}\n",
            "Оценка выставлена {'Sec': [7]}\n",
            "Эксперт не закреплен за указанным курсом\n",
            "Оценка выставлена {'Sec': [7, 6]}\n",
            "Оценка выставлена {'unsorted': 5, 'PI': [10, 5], 'Sec': [5]}\n",
            "Оценка выставлена {'Sec': [7, 6], 'PI': [7]}\n",
            "PI lectures:  7.5\n",
            "Sec lectures:  6.0\n",
            "PI students:  7.333333333333333\n",
            "Sec students:  6.0\n"
          ]
        }
      ]
    },
    {
      "cell_type": "markdown",
      "source": [
        "## **Задание №4. Перегрузка операторов с помощью магических методов**\n"
      ],
      "metadata": {
        "id": "ehfo80anwJUM"
      }
    },
    {
      "cell_type": "markdown",
      "source": [
        "### **Цель задания:**\n",
        "\n"
      ],
      "metadata": {
        "id": "i_KsKg4awZOJ"
      }
    },
    {
      "cell_type": "markdown",
      "source": [
        "Разработать класс `Fraction` для работы с рациональными числами (дробями), реализовав перегрузку стандартных операторов через переопределение соответствующих магических методов. Ваша задача — обеспечить класс `Fraction` функциональностью, демонстрируемой в приведенном примере кода."
      ],
      "metadata": {
        "id": "JvIIB641watq"
      }
    },
    {
      "cell_type": "markdown",
      "source": [
        "### **Описание задания:**\n",
        "\n"
      ],
      "metadata": {
        "id": "BZ9kMLrYwcW_"
      }
    },
    {
      "cell_type": "markdown",
      "source": [
        "Создайте класс `Fraction`, который представляет собой обыкновенную дробь с числителем и знаменателем. Перегрузите основные арифметические операторы для выполнения операций над дробями, а также операторы сравнения. Обеспечьте возможность преобразования дроби в число с плавающей точкой и обратную операцию. Реализуйте обработку исключений при некорректных данных. Предоставьте понятное строковое и официальное представление дроби."
      ],
      "metadata": {
        "id": "6Qt56A-Bwe87"
      }
    },
    {
      "cell_type": "markdown",
      "source": [
        "**Требования к заданию:**\n"
      ],
      "metadata": {
        "id": "1lv3NnB_whqP"
      }
    },
    {
      "cell_type": "markdown",
      "source": [
        "\n",
        "1. **Класс `Fraction` должен:**\n",
        "\n",
        "   - Инициализироваться двумя целыми числами: числителем и знаменателем.\n",
        "   - Обрабатывать ситуацию когда знаменатель равен нулю, а именно выводить сообщение `\"Знаменатель не может быть нулем\"`.\n",
        "   - Упрощать дроби до несократимых при создании и после каждой арифметической операции.\n",
        "\n",
        "2. **Перегрузить следующие операторы путем переопределения магических методов:**\n",
        "\n",
        "   - **Сложение `+`** (`__add__`): сложение двух дробей, возвращает новую дробь.\n",
        "   - **Вычитание `-`** (`__sub__`): вычитание одной дроби из другой, возвращает новую дробь.\n",
        "   - **Умножение `*`** (`__mul__`): умножение двух дробей, возвращает новую дробь.\n",
        "   - **Деление `/`** (`__truediv__`): деление одной дроби на другую, возвращает новую дробь.\n",
        "   - **Равенство `==`** (`__eq__`): проверка равенства двух дробей.\n",
        "   - **Сравнения `>`, `<`, `>=`, `<=`**: сравнение дробей по их значению, реализовать методы `__lt__`, `__le__`, `__gt__`, `__ge__`.\n",
        "\n",
        "3. **Реализовать преобразование типов:**\n",
        "\n",
        "   - **Метод `__float__`**: преобразование дроби в число с плавающей точкой.\n",
        "\n",
        "4. **Дополнительные методы класса:**\n",
        "\n",
        "   - **`reciprocal()`**: возвращает новую дробь, обратную данной (числитель и знаменатель меняются местами).\n",
        "   - **Строковое представление** (`__str__`): возвращает строку вида `\"числитель/знаменатель\"`. Если знаменатель равен 1, возвращает только числитель в виде строки.\n",
        "   - **Официальное представление** (`__repr__`): возвращает строку вида `\"Fraction(числитель, знаменатель)\"`.\n",
        "\n",
        "5. **Обработка исключений:**\n",
        "\n",
        "   - При попытке создать дробь с нулевым знаменателем выводить в консоль сообщение `ValueError`.\n",
        "   - При попытке деления на нулевую дробь, выводить в консоль сообщение `ZeroDivisionError`.\n",
        "\n",
        "6. **Тестирование:**\n",
        "\n",
        "   - Написать код, демонстрирующий работу всех реализованных методов и операторов, используя примеры, приведенные ниже.\n",
        "   - Обеспечить корректную обработку исключений и вывод соответствующих сообщений.\n",
        "\n",
        "\n",
        "\n"
      ],
      "metadata": {
        "id": "4tJX8suPv0TY"
      }
    },
    {
      "cell_type": "code",
      "source": [
        "\n",
        "def cut_to_lower_num(frac):\n",
        "  den = frac.get_denom()\n",
        "  nume = frac.get_num()\n",
        "  div2 = den % 2 == 0 and nume % 2 == 0\n",
        "  div3 = den % 3 == 0 and nume % 3 == 0\n",
        "  div5 = den % 5 == 0 and nume % 5 == 0\n",
        "  while div2 or div3 or div5:\n",
        "    div2 = den % 2 == 0 and nume % 2 == 0\n",
        "    div3 = den % 3 == 0 and nume % 3 == 0\n",
        "    div5 = den % 5 == 0 and nume % 5 == 0\n",
        "    if div2:\n",
        "      nume //= 2\n",
        "      den //= 2\n",
        "    elif div3:\n",
        "      nume //= 3\n",
        "      den //= 3\n",
        "    elif div5:\n",
        "      nume //= 5\n",
        "      den //= 5\n",
        "  return Fraction(nume, den)\n",
        "\n",
        "\n",
        "class Fraction:\n",
        "  def __init__(self, numerator, denominator):\n",
        "    self.numerator = numerator\n",
        "    self.denominator = denominator\n",
        "    if self.denominator == 0:\n",
        "      raise ValueError('Знаменатель не может быть равен нулю')\n",
        "\n",
        "  def __add__(self, other):\n",
        "    return cut_to_lower_num(Fraction(self.numerator * other.denominator + other.numerator * self.denominator, self.denominator * other.denominator))\n",
        "\n",
        "  def __sub__(self, other):\n",
        "    return cut_to_lower_num(Fraction(self.numerator * other.denominator - other.numerator * self.denominator, self.denominator * other.denominator))\n",
        "\n",
        "  def __mul__(self, other):\n",
        "    return cut_to_lower_num(Fraction(self.numerator * other.numerator, self.denominator * other.denominator))\n",
        "\n",
        "  def __truediv__(self, other):\n",
        "    if other.denominator == 0:\n",
        "      raise ZeroDivisionError('Попытка деления на нулевую дробь')\n",
        "    return cut_to_lower_num(Fraction(self.numerator * other.denominator, self.denominator * other.numerator))\n",
        "\n",
        "  def __eq__(self, other):\n",
        "    return (self.numerator * other.denominator / self.denominator * other.denominator) == (other.numerator * self.denominator / self.denominator * other.denominator)\n",
        "\n",
        "  def __lt__(self, other):\n",
        "    return (self.numerator * other.denominator / self.denominator * other.denominator) < (other.numerator * self.denominator / self.denominator * other.denominator)\n",
        "\n",
        "  def __le__(self, other):\n",
        "    return (self.numerator * other.denominator / self.denominator * other.denominator) <= (other.numerator * self.denominator / self.denominator * other.denominator)\n",
        "\n",
        "  def __gt__(self, other):\n",
        "    return (self.numerator * other.denominator / self.denominator * other.denominator) > (other.numerator * self.denominator / self.denominator * other.denominator)\n",
        "\n",
        "  def __ge__(self, other):\n",
        "    return (self.numerator * other.denominator / self.denominator * other.denominator) >= (other.numerator * self.denominator / self.denominator * other.denominator)\n",
        "\n",
        "  def __str__(self):\n",
        "    if self.denominator == 1:\n",
        "      return f'{self.numerator}'\n",
        "    else:\n",
        "      return f'{self.numerator}/{self.denominator}'\n",
        "\n",
        "  def __repr__(self):\n",
        "    return f'Fraction{self.numerator, self.denominator}'\n",
        "\n",
        "  def __float__(self):\n",
        "    return self.numerator/self.denominator\n",
        "\n",
        "  def reciprocal(self):\n",
        "    return Fraction(self.denominator, self.numerator)\n",
        "\n",
        "  def get_num(self):\n",
        "    return self.numerator\n",
        "\n",
        "  def get_denom(self):\n",
        "    return self.denominator\n",
        "\n",
        "  def from_float(other):\n",
        "    cnt = 0\n",
        "    while other % 1 != 0:\n",
        "      other *= 10\n",
        "      cnt += 1\n",
        "    return cut_to_lower_num(Fraction(int(other), 10**cnt))\n",
        "\n",
        "\n",
        "f1 = Fraction(3, 4)\n"
      ],
      "metadata": {
        "id": "58JlCtFkxpmU"
      },
      "execution_count": null,
      "outputs": []
    },
    {
      "cell_type": "markdown",
      "source": [
        "**Тесты для класса `Fraction`:**\n"
      ],
      "metadata": {
        "id": "N5tZxFvIxdIy"
      }
    },
    {
      "cell_type": "code",
      "source": [
        "# Создание дробей\n",
        "f1 = Fraction(3, 4)\n",
        "f2 = Fraction(5, 6)\n",
        "\n",
        "# Сложение дробей\n",
        "f3 = f1 + f2\n",
        "print(f3)  # Ожидаемый вывод: 19/12\n",
        "\n",
        "# Вычитание дробей\n",
        "f4 = f1 - f2\n",
        "print(f4)  # Ожидаемый вывод: -1/12\n",
        "\n",
        "# Умножение дробей\n",
        "f5 = f1 * f2\n",
        "print(f5)  # Ожидаемый вывод: 5/8\n",
        "\n",
        "# Деление дробей\n",
        "f6 = f1 / f2\n",
        "print(f6)  # Ожидаемый вывод: 9/10\n",
        "\n",
        "# Проверка равенства\n",
        "print(f1 == Fraction(6, 8))   # Ожидаемый вывод: True\n",
        "\n",
        "# Сравнение дробей\n",
        "print(f1 > f2)    # Ожидаемый вывод: False\n",
        "print(f1 < f2)    # Ожидаемый вывод: True\n",
        "\n",
        "# Преобразование к float\n",
        "print(float(f1))  # Ожидаемый вывод: 0.75\n",
        "\n",
        "# Обратная дробь\n",
        "f7 = f1.reciprocal()\n",
        "print(f7)         # Ожидаемый вывод: 4/3\n",
        "\n",
        "# Создание дроби из float\n",
        "f8 = Fraction.from_float(0.75)\n",
        "print(f8)         # Ожидаемый вывод: 3/4\n",
        "\n",
        "# Проверка обработки исключений\n",
        "try:\n",
        "    f_invalid = Fraction(5, 0)\n",
        "except ValueError as e:\n",
        "    print(e)  # Ожидаемый вывод: Знаменатель не может быть нулем\n",
        "\n",
        "# Строковое и официальное представление\n",
        "print(str(f1))    # Ожидаемый вывод: 3/4\n",
        "print(repr(f1))   # Ожидаемый вывод: Fraction(3, 4)"
      ],
      "metadata": {
        "id": "U1UtgDM0xlqJ",
        "colab": {
          "base_uri": "https://localhost:8080/"
        },
        "outputId": "b9c038b4-771b-495e-de34-5e5af2aee354"
      },
      "execution_count": null,
      "outputs": [
        {
          "output_type": "stream",
          "name": "stdout",
          "text": [
            "19/12\n",
            "-1/12\n",
            "5/8\n",
            "9/10\n",
            "True\n",
            "False\n",
            "True\n",
            "0.75\n",
            "4/3\n",
            "3/4\n",
            "Знаменатель не может быть равен нулю\n",
            "3/4\n",
            "Fraction(3, 4)\n"
          ]
        }
      ]
    }
  ]
}