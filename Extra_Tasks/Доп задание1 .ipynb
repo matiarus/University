{
  "nbformat": 4,
  "nbformat_minor": 0,
  "metadata": {
    "colab": {
      "provenance": [],
      "authorship_tag": "ABX9TyNxfJeuu2xHVzQBSxTH5OGZ",
      "include_colab_link": true
    },
    "kernelspec": {
      "name": "python3",
      "display_name": "Python 3"
    },
    "language_info": {
      "name": "python"
    }
  },
  "cells": [
    {
      "cell_type": "markdown",
      "metadata": {
        "id": "view-in-github",
        "colab_type": "text"
      },
      "source": [
        "<a href=\"https://colab.research.google.com/github/Kirieshka124/univesity/blob/main/Extra_Tasks/Untitled2.ipynb\" target=\"_parent\"><img src=\"https://colab.research.google.com/assets/colab-badge.svg\" alt=\"Open In Colab\"/></a>"
      ]
    },
    {
      "cell_type": "code",
      "execution_count": 66,
      "metadata": {
        "colab": {
          "base_uri": "https://localhost:8080/"
        },
        "id": "q0mYeM70sqFS",
        "outputId": "3348288d-c4e0-45c8-d2bf-a1323ff3a83a"
      },
      "outputs": [
        {
          "output_type": "stream",
          "name": "stdout",
          "text": [
            "56\n",
            "Ваше число больше!\n",
            "чври\n",
            "Неверный выбор\n"
          ]
        }
      ],
      "source": [
        "import random\n",
        "a=random.randint(0,101)\n",
        "b=input()\n",
        "k=0\n",
        "prov=[]\n",
        "parts=[]\n",
        "for n in range(1,101):\n",
        "  prov.append(str(n))\n",
        "for cifri in range(0,10):\n",
        "  parts.append(str(cifri))\n",
        "while True:\n",
        "  if b!='Выход' and b not in (prov):\n",
        "    print('Неверный ввод')\n",
        "    break\n",
        "  if b=='Выход':\n",
        "   print('Ну, не сегодня :(')\n",
        "   break\n",
        "  if a<int(b):\n",
        "        print('Ваше число больше!')\n",
        "        k+=1\n",
        "        b=input()\n",
        "        if (b[0] not in parts) and (b[1] not in parts) and (b[-1] not in parts) and (b not in prov) and b!='Выход':\n",
        "          print('Неверный выбор')\n",
        "          break\n",
        "        if b=='Выход':\n",
        "          print('Ну, не сегодня :(')\n",
        "          break\n",
        "  if a>int(b):\n",
        "        print('Ваше число меньше!')\n",
        "        k+=1\n",
        "        b=input()\n",
        "        if (b[0] not in parts) and (b[1] not in parts) and (b[-1] not in parts) and (b not in prov) and b!='Выход':\n",
        "          print('Неверный выбор')\n",
        "          break\n",
        "        if b=='Выход':\n",
        "          print('Ну, не сегодня :(')\n",
        "          break\n",
        "  if str(a)==b:\n",
        "    k+=1\n",
        "    print('Ура, вы угадали, поздравляем :D.',f'Количество попыток:{k}')\n",
        "    break"
      ]
    },
    {
      "cell_type": "code",
      "source": [
        "b='43'\n",
        "a=['1','2','4','56']\n",
        "if b[0] in a:\n",
        "  print('bchi')"
      ],
      "metadata": {
        "colab": {
          "base_uri": "https://localhost:8080/"
        },
        "id": "NHpKvYS30RF_",
        "outputId": "195c9682-756e-40e8-81e4-8f9ecbf59e97"
      },
      "execution_count": 52,
      "outputs": [
        {
          "output_type": "stream",
          "name": "stdout",
          "text": [
            "bchi\n"
          ]
        }
      ]
    }
  ]
}
